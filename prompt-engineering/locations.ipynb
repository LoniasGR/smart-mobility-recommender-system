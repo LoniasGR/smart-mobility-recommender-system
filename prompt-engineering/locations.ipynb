{
 "cells": [
  {
   "cell_type": "code",
   "execution_count": 22,
   "id": "7e45e685",
   "metadata": {},
   "outputs": [],
   "source": [
    "import os\n",
    "\n",
    "from dotenv import load_dotenv, find_dotenv\n",
    "\n",
    "load_dotenv(find_dotenv())\n",
    "\n",
    "from langchain.chat_models import init_chat_model\n",
    "\n",
    "model = init_chat_model(\"llama3-8b-8192\", model_provider=\"groq\", temperature=0)"
   ]
  },
  {
   "cell_type": "code",
   "execution_count": 23,
   "id": "cafc63e3",
   "metadata": {},
   "outputs": [],
   "source": [
    "system_prompt = \"\"\"\n",
    "I am starting a new company and we will be deploying vehicles around the city of Istanbul. These vehicles \n",
    "include self-driving cars and scooters. \n",
    "For this reason, I need to create a list of locations which are more crowded and would be ideal to deploy\n",
    "these vehicles. Please provide me in the following json format a list of 10 locations that would be ideal for deploying these vehicles in Istanbul:\n",
    "[\n",
    "{\"lat\": <latitude>, \"lon\": <longitude>, \"name\": \"<name of the location>\", \"description\": \"<short description of the location>\"},\n",
    "...\n",
    "]\n",
    "\n",
    "Please fill replace the <latitude>, <longitude>, <name of the location> and <short description of the location> with the actual values.\n",
    "Make sure to provide locations that are well-known, busy, and suitable for vehicle deployment.\n",
    "Make sure to provide a variety of locations, including parks, shopping areas, and transportation hubs.\n",
    "\n",
    "\n",
    "After you have done the above, I would like you to also create a list of dummy vehicles around these locations. Make sure each vehicle location\n",
    " is within 500 meters of the locations you provided and please provide at least 10 vehicles around each location, but each one of them on a different\n",
    " point around that given location. The format should be as follows:\n",
    "[\n",
    "{\"location\": {\"latitude\": <latitude>, \"longitude\": <longitude>}, \"car_id | scooter_id\": \"<unique vehicle id>\", \"is_dummy\": \"true\"},\n",
    "]\n",
    "Make sure to replace <latitude>, <longitude>, <unique vehicle id> and <type of vehicle> with the actual values. The \n",
    "vehicle id can be an auto-incrementing string in the format \"vehicle_1\", \"vehicle_2\", etc. Depending on the type of vehicle,\n",
    "different json needs to be created. Please also separate them in two different json objects, one for cars and one for scooters.\n",
    "\n",
    "Please provide at least 5 vehicles for each location, and make sure to provide a variety of vehicles, including cars and scooters.\n",
    "\"\"\"\n",
    "\n"
   ]
  },
  {
   "cell_type": "code",
   "execution_count": 24,
   "id": "8c9f24e3",
   "metadata": {},
   "outputs": [
    {
     "name": "stdout",
     "output_type": "stream",
     "text": [
      "Here are the lists of locations and dummy vehicles as per your request:\n",
      "\n",
      "**Locations:**\n",
      "\n",
      "[\n",
      "{\"lat\": 41.0123, \"lon\": 28.9743, \"name\": \"Taksim Square\", \"description\": \"A major public square in the heart of Istanbul\"},\n",
      "{\"lat\": 41.0132, \"lon\": 28.9642, \"name\": \"Istiklal Avenue\", \"description\": \"A popular shopping street in Istanbul\"},\n",
      "{\"lat\": 41.0151, \"lon\": 28.9531, \"name\": \"Galata Tower\", \"description\": \"A historic tower in the Galata district\"},\n",
      "{\"lat\": 41.0189, \"lon\": 28.9422, \"name\": \"Beyoğlu Park\", \"description\": \"A public park in the Beyoğlu district\"},\n",
      "{\"lat\": 41.0217, \"lon\": 28.9313, \"name\": \"Sultanahmet Square\", \"description\": \"A historic square in the Sultanahmet district\"},\n",
      "{\"lat\": 41.0245, \"lon\": 28.9204, \"name\": \"Topkapi Palace\", \"description\": \"A historic palace in the Topkapi district\"},\n",
      "{\"lat\": 41.0273, \"lon\": 28.9095, \"name\": \"Grand Bazaar\", \"description\": \"A historic bazaar in the Grand Bazaar district\"},\n",
      "{\"lat\": 41.0301, \"lon\": 28.8986, \"name\": \" Eminönü\", \"description\": \"A historic district in the Eminönü district\"},\n",
      "{\"lat\": 41.0329, \"lon\": 28.8877, \"name\": \"Karaköy\", \"description\": \"A historic district in the Karaköy district\"},\n",
      "{\"lat\": 41.0357, \"lon\": 28.8768, \"name\": \"Golden Horn\", \"description\": \"A natural harbor in the Golden Horn district\"}\n",
      "]\n",
      "\n",
      "**Cars:**\n",
      "\n",
      "[\n",
      "{\"location\": {\"latitude\": 41.0123, \"longitude\": 28.9743}, \"car_id\": \"vehicle_1\", \"is_dummy\": \"true\"},\n",
      "{\"location\": {\"latitude\": 41.0123, \"longitude\": 28.9733}, \"car_id\": \"vehicle_2\", \"is_dummy\": \"true\"},\n",
      "{\"location\": {\"latitude\": 41.0122, \"longitude\": 28.9752}, \"car_id\": \"vehicle_3\", \"is_dummy\": \"true\"},\n",
      "{\"location\": {\"latitude\": 41.0121, \"longitude\": 28.9761}, \"car_id\": \"vehicle_4\", \"is_dummy\": \"true\"},\n",
      "{\"location\": {\"latitude\": 41.0120, \"longitude\": 28.9770}, \"car_id\": \"vehicle_5\", \"is_dummy\": \"true\"},\n",
      "{\"location\": {\"latitude\": 41.0132, \"longitude\": 28.9642}, \"car_id\": \"vehicle_6\", \"is_dummy\": \"true\"},\n",
      "{\"location\": {\"latitude\": 41.0131, \"longitude\": 28.9651}, \"car_id\": \"vehicle_7\", \"is_dummy\": \"true\"},\n",
      "{\"location\": {\"latitude\": 41.0130, \"longitude\": 28.9660}, \"car_id\": \"vehicle_8\", \"is_dummy\": \"true\"},\n",
      "{\"location\": {\"latitude\": 41.0129, \"longitude\": 28.9670}, \"car_id\": \"vehicle_9\", \"is_dummy\": \"true\"},\n",
      "{\"location\": {\"latitude\": 41.0128, \"longitude\": 28.9680}, \"car_id\": \"vehicle_10\", \"is_dummy\": \"true\"}\n",
      "]\n",
      "\n",
      "**Scooters:**\n",
      "\n",
      "[\n",
      "{\"location\": {\"latitude\": 41.0151, \"longitude\": 28.9531}, \"scooter_id\": \"vehicle_11\", \"is_dummy\": \"true\"},\n",
      "{\"location\": {\"latitude\": 41.0150, \"longitude\": 28.9540}, \"scooter_id\": \"vehicle_12\", \"is_dummy\": \"true\"},\n",
      "{\"location\": {\"latitude\": 41.0149, \"longitude\": 28.9550}, \"scooter_id\": \"vehicle_13\", \"is_dummy\": \"true\"},\n",
      "{\"location\": {\"latitude\": 41.0148, \"longitude\": 28.9560}, \"scooter_id\": \"vehicle_14\", \"is_dummy\": \"true\"},\n",
      "{\"location\": {\"latitude\": 41.0147, \"longitude\": 28.9570}, \"scooter_id\": \"vehicle_15\", \"is_dummy\": \"true\"},\n",
      "{\"location\": {\"latitude\": 41.0189, \"longitude\": 28.9422}, \"scooter_id\": \"vehicle_16\", \"is_dummy\": \"true\"},\n",
      "{\"location\": {\"latitude\": 41.0188, \"longitude\": 28.9432}, \"scooter_id\": \"vehicle_17\", \"is_dummy\": \"true\"},\n",
      "{\"location\": {\"latitude\": 41.0187, \"longitude\": 28.9442}, \"scooter_id\": \"vehicle_18\", \"is_dummy\": \"true\"},\n",
      "{\"location\": {\"latitude\": 41.0186, \"longitude\": 28.9452}, \"scooter_id\": \"vehicle_19\", \"is_dummy\": \"true\"},\n",
      "{\"location\": {\"latitude\": 41.0185, \"longitude\": 28.9462}, \"scooter_id\": \"vehicle_20\", \"is_dummy\": \"true\"}\n",
      "]\n",
      "\n",
      "Note that the latitude and longitude values are approximate and may vary slightly depending on the specific location.\n"
     ]
    }
   ],
   "source": [
    "from langchain_core.messages import SystemMessage\n",
    "\n",
    "messages = [\n",
    "    SystemMessage(system_prompt),\n",
    "]\n",
    "\n",
    "response = model.invoke(messages)\n",
    "print(response.content)"
   ]
  },
  {
   "cell_type": "code",
   "execution_count": null,
   "id": "d4ab919b",
   "metadata": {},
   "outputs": [],
   "source": []
  }
 ],
 "metadata": {
  "kernelspec": {
   "display_name": "prompt-engineering",
   "language": "python",
   "name": "python3"
  },
  "language_info": {
   "codemirror_mode": {
    "name": "ipython",
    "version": 3
   },
   "file_extension": ".py",
   "mimetype": "text/x-python",
   "name": "python",
   "nbconvert_exporter": "python",
   "pygments_lexer": "ipython3",
   "version": "3.12.11"
  }
 },
 "nbformat": 4,
 "nbformat_minor": 5
}
